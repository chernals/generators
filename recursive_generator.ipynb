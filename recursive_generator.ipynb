{
 "cells": [
  {
   "cell_type": "code",
   "execution_count": 209,
   "metadata": {
    "collapsed": false
   },
   "outputs": [],
   "source": [
    "class System:\n",
    "    def __init__(self, name, subsystems, uri):\n",
    "        self.name = name\n",
    "        self.subsystems = subsystems\n",
    "        self.uri = uri\n",
    "\n",
    "A = System(\"A\", [], \"http://A\")\n",
    "B1 = System(\"B1\", [], \"http://B/B1\")\n",
    "B21 = System(\"B22\", [], \"http://B/B2/B21\")\n",
    "B22 = System(\"B22\", [], \"http://B/B2/B22\")\n",
    "B2 = System(\"B2\", [B21, B22], \"http://B/B2\")\n",
    "B = System(\"B\", [B1, B2], \"http://B\")\n",
    "C1 = System(\"C1\", [], \"http://C/C1\")\n",
    "C = System(\"C\", [C1], \"http://C\")\n",
    "S = System(\"S\", [A, B, C], None)"
   ]
  },
  {
   "cell_type": "code",
   "execution_count": 210,
   "metadata": {
    "collapsed": false
   },
   "outputs": [],
   "source": [
    "def find_subsystem(system, name):\n",
    "    if system.name == name:\n",
    "        yield system.uri\n",
    "    for sub in system.subsystems:\n",
    "        yield from find_subsystem(sub, name)"
   ]
  },
  {
   "cell_type": "code",
   "execution_count": 211,
   "metadata": {
    "collapsed": false
   },
   "outputs": [
    {
     "data": {
      "text/plain": [
       "'http://B/B2/B21'"
      ]
     },
     "execution_count": 211,
     "metadata": {},
     "output_type": "execute_result"
    }
   ],
   "source": [
    "next(find_subsystem(S, \"B22\"))"
   ]
  },
  {
   "cell_type": "code",
   "execution_count": 212,
   "metadata": {
    "collapsed": false
   },
   "outputs": [
    {
     "data": {
      "text/plain": [
       "['http://B/B2/B21', 'http://B/B2/B22']"
      ]
     },
     "execution_count": 212,
     "metadata": {},
     "output_type": "execute_result"
    }
   ],
   "source": [
    "list(find_subsystem(S, \"B22\"))"
   ]
  }
 ],
 "metadata": {
  "kernelspec": {
   "display_name": "Python 3 - Brew",
   "language": "python",
   "name": "python3"
  },
  "language_info": {
   "codemirror_mode": {
    "name": "ipython",
    "version": 3
   },
   "file_extension": ".py",
   "mimetype": "text/x-python",
   "name": "python",
   "nbconvert_exporter": "python",
   "pygments_lexer": "ipython3",
   "version": "3.5.0"
  }
 },
 "nbformat": 4,
 "nbformat_minor": 1
}
